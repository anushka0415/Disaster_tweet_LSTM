{
 "cells": [
  {
   "cell_type": "code",
   "execution_count": 1,
   "id": "344b5d55",
   "metadata": {},
   "outputs": [],
   "source": [
    "import pandas as pd \n",
    "import numpy as np\n",
    "import nltk"
   ]
  },
  {
   "cell_type": "code",
   "execution_count": 3,
   "id": "c72f3f4e",
   "metadata": {},
   "outputs": [
    {
     "data": {
      "text/plain": [
       "(220378, 4)"
      ]
     },
     "execution_count": 3,
     "metadata": {},
     "output_type": "execute_result"
    }
   ],
   "source": [
    "df=pd.read_csv('final_cleaned_processed.csv')\n",
    "df.shape"
   ]
  },
  {
   "cell_type": "code",
   "execution_count": 300,
   "id": "99f6b863",
   "metadata": {},
   "outputs": [
    {
     "name": "stdout",
     "output_type": "stream",
     "text": [
      "not disaster:  0.0\n",
      "disaster:  1.0\n"
     ]
    }
   ],
   "source": [
    "dis_uniq = df['relevance'].unique()\n",
    "print('not disaster: ', dis_uniq[0])\n",
    "print('disaster: ', dis_uniq[1])\n",
    "df['type_of_disaster'] = df['type_of_disaster'].str.lower()"
   ]
  },
  {
   "cell_type": "code",
   "execution_count": 301,
   "id": "10726d3f",
   "metadata": {},
   "outputs": [
    {
     "name": "stdout",
     "output_type": "stream",
     "text": [
      "       tweets type_of_disaster  relevance hashtags\n",
      "13065     NaN        meteorite        1.0      NaN\n",
      "13076     NaN     non-disaster        0.0      NaN\n",
      "13081     NaN        meteorite        1.0      NaN\n",
      "13082     NaN        meteorite        1.0      NaN\n",
      "13112     NaN        meteorite        1.0      NaN\n",
      "...       ...              ...        ...      ...\n",
      "149910    NaN     not disaster        0.0      NaN\n",
      "150668    NaN     not disaster        0.0      NaN\n",
      "150953    NaN     not disaster        0.0      NaN\n",
      "151108    NaN     not disaster        0.0      NaN\n",
      "151225    NaN     not disaster        0.0      NaN\n",
      "\n",
      "[453 rows x 4 columns]\n"
     ]
    }
   ],
   "source": [
    "filtered_rows = df[df['tweets'].isnull()==True]\n",
    "print(filtered_rows)"
   ]
  },
  {
   "cell_type": "markdown",
   "id": "f0ce452d",
   "metadata": {},
   "source": [
    "## General EDA\n"
   ]
  },
  {
   "cell_type": "code",
   "execution_count": 302,
   "id": "950ef792",
   "metadata": {},
   "outputs": [
    {
     "data": {
      "text/plain": [
       "<AxesSubplot:xlabel='relevance', ylabel='count'>"
      ]
     },
     "execution_count": 302,
     "metadata": {},
     "output_type": "execute_result"
    },
    {
     "data": {
      "image/png": "[encoded data removed]",
      "text/plain": [
       "<Figure size 432x288 with 1 Axes>"
      ]
     },
     "metadata": {
      "needs_background": "light"
     },
     "output_type": "display_data"
    }
   ],
   "source": [
    "import seaborn as sns\n",
    "label_mapping = {\n",
    "    'wildfire': 'wildfires',\n",
    "    'non-disaster': 'not disaster',\n",
    "     'dorian': 'hurricane',\n",
    "    'matthew': 'hurricane',\n",
    "     'michael': 'hurricane',\n",
    "    'sandy': 'hurricane',\n",
    "    'fire': 'wildfires'\n",
    "    \n",
    "}\n",
    "\n",
    "# Replace variations with the common label in the 'type_of_disaster' column\n",
    "df['type_of_disaster'] = df['type_of_disaster'].replace(label_mapping)\n",
    "\n",
    "# Print the updated DataFrame\n",
    "\n",
    "sns.countplot(x='relevance',data=df)"
   ]
  },
  {
   "cell_type": "code",
   "execution_count": 303,
   "id": "93ca5512",
   "metadata": {},
   "outputs": [
    {
     "name": "stdout",
     "output_type": "stream",
     "text": [
      "not disaster\n",
      "wildfires\n",
      "earthquake\n",
      "floods\n",
      "typhoon\n",
      "meteorite\n",
      "collapse\n",
      "haze\n",
      "hurricane\n",
      "tornado\n",
      "flood\n",
      "meteor\n",
      "nan\n",
      "blizzard\n",
      "volcano\n",
      "pandemic\n",
      "cyclone\n"
     ]
    }
   ],
   "source": [
    "dis_uniq1 = df['type_of_disaster'].unique()\n",
    "for i in range(len(dis_uniq1)):\n",
    "    print(dis_uniq1[i])"
   ]
  },
  {
   "cell_type": "code",
   "execution_count": 304,
   "id": "7a7a347f",
   "metadata": {},
   "outputs": [
    {
     "data": {
      "text/plain": [
       "[Text(0, 0, 'not disaster'),\n",
       " Text(1, 0, 'wildfires'),\n",
       " Text(2, 0, 'earthquake'),\n",
       " Text(3, 0, 'floods'),\n",
       " Text(4, 0, 'typhoon'),\n",
       " Text(5, 0, 'meteorite'),\n",
       " Text(6, 0, 'collapse'),\n",
       " Text(7, 0, 'haze'),\n",
       " Text(8, 0, 'hurricane'),\n",
       " Text(9, 0, 'tornado'),\n",
       " Text(10, 0, 'flood'),\n",
       " Text(11, 0, 'meteor'),\n",
       " Text(12, 0, 'blizzard'),\n",
       " Text(13, 0, 'volcano'),\n",
       " Text(14, 0, 'pandemic'),\n",
       " Text(15, 0, 'cyclone')]"
      ]
     },
     "execution_count": 304,
     "metadata": {},
     "output_type": "execute_result"
    },
    {
     "data": {
      "image/png": "[encoded data removed]",
      "text/plain": [
       "<Figure size 432x288 with 1 Axes>"
      ]
     },
     "metadata": {
      "needs_background": "light"
     },
     "output_type": "display_data"
    }
   ],
   "source": [
    "ax=sns.countplot(x='type_of_disaster',data=df)\n",
    "ax.set_xticklabels(ax.get_xticklabels(), rotation=90) #shows that data is imbalanced if we were to classify subtype of disaster"
   ]
  },
  {
   "cell_type": "code",
   "execution_count": 305,
   "id": "f03a36ad",
   "metadata": {},
   "outputs": [
    {
     "name": "stdout",
     "output_type": "stream",
     "text": [
      "453\n"
     ]
    }
   ],
   "source": [
    "print(df['tweets'].isnull().sum())"
   ]
  },
  {
   "cell_type": "code",
   "execution_count": 306,
   "id": "c8c7f689",
   "metadata": {},
   "outputs": [
    {
     "name": "stdout",
     "output_type": "stream",
     "text": [
      "8878\n"
     ]
    }
   ],
   "source": [
    "print(df['type_of_disaster'].isnull().sum())"
   ]
  },
  {
   "cell_type": "code",
   "execution_count": 307,
   "id": "d9daf14c",
   "metadata": {},
   "outputs": [],
   "source": [
    " nan_df=df[df['type_of_disaster'].isnull()==True]\n",
    "nan_df\n",
    "file_path = 'temp.csv'\n",
    "nan_df.to_csv(file_path, index=False)"
   ]
  },
  {
   "cell_type": "code",
   "execution_count": 308,
   "id": "dc90b380",
   "metadata": {},
   "outputs": [
    {
     "data": {
      "text/plain": [
       "(234937, 4)"
      ]
     },
     "execution_count": 308,
     "metadata": {},
     "output_type": "execute_result"
    }
   ],
   "source": [
    "indexnan =df[df['type_of_disaster'].isnull()==True].index\n",
    "df.drop(indexnan , inplace=True)\n",
    "df.shape"
   ]
  },
  {
   "cell_type": "code",
   "execution_count": 309,
   "id": "e676690e",
   "metadata": {},
   "outputs": [],
   "source": [
    "new_df=pd.read_csv('temp.csv')"
   ]
  },
  {
   "cell_type": "code",
   "execution_count": 310,
   "id": "9940ba87",
   "metadata": {},
   "outputs": [],
   "source": [
    "disaster_keywords = ['earthquake', 'flood', 'tsunami', 'tornado', 'hurricane', 'wildfire', 'forest fire', 'fire', 'drought', 'landslide', 'volcano', 'storm', \n",
    "                     'blizzard', 'heat wave', 'avalanche', 'cyclone', 'volcanic eruption', 'thunderstorm', 'hailstorm', 'winter storm', 'climate change', \n",
    "                     'violent storm', 'duct storm', 'rainstorm','meteor']"
   ]
  },
  {
   "cell_type": "code",
   "execution_count": 311,
   "id": "65af023a",
   "metadata": {},
   "outputs": [],
   "source": [
    "def disaster_type(a_list):\n",
    "    disaster_word_list = []\n",
    "    \n",
    "    for disaster_word in disaster_keywords:\n",
    "        if disaster_word in a_list:\n",
    "            disaster_word_list.append(disaster_word)\n",
    "    \n",
    "    if len(disaster_word_list) == 0: \n",
    "        return 'not disaster'\n",
    "    else: \n",
    "        return disaster_word_list[0]\n"
   ]
  },
  {
   "cell_type": "code",
   "execution_count": 312,
   "id": "5f7e43a7",
   "metadata": {},
   "outputs": [
    {
     "data": {
      "text/html": [
       "<div>\n",
       "<style scoped>\n",
       "    .dataframe tbody tr th:only-of-type {\n",
       "        vertical-align: middle;\n",
       "    }\n",
       "\n",
       "    .dataframe tbody tr th {\n",
       "        vertical-align: top;\n",
       "    }\n",
       "\n",
       "    .dataframe thead th {\n",
       "        text-align: right;\n",
       "    }\n",
       "</style>\n",
       "<table border=\"1\" class=\"dataframe\">\n",
       "  <thead>\n",
       "    <tr style=\"text-align: right;\">\n",
       "      <th></th>\n",
       "      <th>tweets</th>\n",
       "      <th>type_of_disaster</th>\n",
       "      <th>relevance</th>\n",
       "      <th>hashtags</th>\n",
       "    </tr>\n",
       "  </thead>\n",
       "  <tbody>\n",
       "    <tr>\n",
       "      <th>0</th>\n",
       "      <td>russian meteor pieces number crumb boss tv all...</td>\n",
       "      <td>NaN</td>\n",
       "      <td>NaN</td>\n",
       "      <td>NaN</td>\n",
       "    </tr>\n",
       "    <tr>\n",
       "      <th>1</th>\n",
       "      <td>with my love of my life my bride on the eve of...</td>\n",
       "      <td>NaN</td>\n",
       "      <td>0.0</td>\n",
       "      <td>NaN</td>\n",
       "    </tr>\n",
       "    <tr>\n",
       "      <th>2</th>\n",
       "      <td>time for us to sta getting ready for hurricane...</td>\n",
       "      <td>NaN</td>\n",
       "      <td>0.0</td>\n",
       "      <td>NaN</td>\n",
       "    </tr>\n",
       "    <tr>\n",
       "      <th>3</th>\n",
       "      <td>all fast food restaurants after hurricane matt...</td>\n",
       "      <td>NaN</td>\n",
       "      <td>0.0</td>\n",
       "      <td>NaN</td>\n",
       "    </tr>\n",
       "    <tr>\n",
       "      <th>4</th>\n",
       "      <td>make sure and prepare for hurricane matthew wi...</td>\n",
       "      <td>NaN</td>\n",
       "      <td>0.0</td>\n",
       "      <td>['freshcatchtci']</td>\n",
       "    </tr>\n",
       "  </tbody>\n",
       "</table>\n",
       "</div>"
      ],
      "text/plain": [
       "                                              tweets  type_of_disaster  \\\n",
       "0  russian meteor pieces number crumb boss tv all...               NaN   \n",
       "1  with my love of my life my bride on the eve of...               NaN   \n",
       "2  time for us to sta getting ready for hurricane...               NaN   \n",
       "3  all fast food restaurants after hurricane matt...               NaN   \n",
       "4  make sure and prepare for hurricane matthew wi...               NaN   \n",
       "\n",
       "   relevance           hashtags  \n",
       "0        NaN                NaN  \n",
       "1        0.0                NaN  \n",
       "2        0.0                NaN  \n",
       "3        0.0                NaN  \n",
       "4        0.0  ['freshcatchtci']  "
      ]
     },
     "execution_count": 312,
     "metadata": {},
     "output_type": "execute_result"
    }
   ],
   "source": [
    "new_df.head()"
   ]
  },
  {
   "cell_type": "code",
   "execution_count": 313,
   "id": "2f272bad",
   "metadata": {},
   "outputs": [],
   "source": [
    "new_df['type_of_disaster'] = new_df['tweets'].apply(disaster_type)"
   ]
  },
  {
   "cell_type": "code",
   "execution_count": 314,
   "id": "6ef963ef",
   "metadata": {},
   "outputs": [
    {
     "data": {
      "text/plain": [
       "(8878, 4)"
      ]
     },
     "execution_count": 314,
     "metadata": {},
     "output_type": "execute_result"
    }
   ],
   "source": [
    "new_df['relevance'].isnull().sum()\n",
    "new_df.shape"
   ]
  },
  {
   "cell_type": "code",
   "execution_count": 315,
   "id": "8a7849de",
   "metadata": {},
   "outputs": [],
   "source": [
    "def assign_relevance(text):\n",
    "    # Convert the text to lowercase for case-insensitive matching\n",
    "    text = text.lower()\n",
    "    \n",
    "    # Check if any word in disaster_keywords is present in the text\n",
    "    for word in disaster_keywords:\n",
    "        if word in text:\n",
    "            return 1.0  # If any word is found, assign relevance as 1.0\n",
    "    \n",
    "    return 0.0  # If no word is found, assign relevance as 0.0\n"
   ]
  },
  {
   "cell_type": "code",
   "execution_count": 316,
   "id": "cc6c1680",
   "metadata": {},
   "outputs": [],
   "source": [
    "# Apply the assign_relevance function to create a 'relevance' column\n",
    "new_df['relevance'] = new_df['tweets'].apply(assign_relevance)\n"
   ]
  },
  {
   "cell_type": "code",
   "execution_count": 317,
   "id": "d5f48387",
   "metadata": {},
   "outputs": [
    {
     "data": {
      "text/plain": [
       "(243815, 4)"
      ]
     },
     "execution_count": 317,
     "metadata": {},
     "output_type": "execute_result"
    }
   ],
   "source": [
    "df = pd.concat([df, new_df], ignore_index=True)\n",
    "df.shape"
   ]
  },
  {
   "cell_type": "code",
   "execution_count": 318,
   "id": "6618ad9a",
   "metadata": {},
   "outputs": [
    {
     "name": "stdout",
     "output_type": "stream",
     "text": [
      "['meteor' 'hurricane' 'flood' 'tornado' 'not disaster' 'blizzard' 'storm'\n",
      " 'fire' 'wildfire']\n"
     ]
    }
   ],
   "source": [
    "listy=new_df['type_of_disaster'].unique()\n",
    "print(listy)"
   ]
  },
  {
   "cell_type": "code",
   "execution_count": 319,
   "id": "07e6cebd",
   "metadata": {},
   "outputs": [
    {
     "data": {
      "text/plain": [
       "453"
      ]
     },
     "execution_count": 319,
     "metadata": {},
     "output_type": "execute_result"
    }
   ],
   "source": [
    "df['tweets'].isnull().sum()"
   ]
  },
  {
   "cell_type": "code",
   "execution_count": 320,
   "id": "72294cfb",
   "metadata": {},
   "outputs": [
    {
     "name": "stdout",
     "output_type": "stream",
     "text": [
      "(243362, 4)\n"
     ]
    }
   ],
   "source": [
    "indices_to_drop = df[df['tweets'].isnull()==True].index\n",
    "\n",
    "# Drop rows by indices in-place\n",
    "df.drop(indices_to_drop, inplace=True)\n",
    "print(df.shape)"
   ]
  },
  {
   "cell_type": "markdown",
   "id": "c35eb9f4",
   "metadata": {},
   "source": [
    "Class Hurricane is having way too many duplicates : we decide to keep just the first occurence"
   ]
  },
  {
   "cell_type": "code",
   "execution_count": 5,
   "id": "9e423c30",
   "metadata": {},
   "outputs": [
    {
     "name": "stdout",
     "output_type": "stream",
     "text": [
      "Duplicate Rows for not disaster :\n"
     ]
    },
    {
     "data": {
      "text/html": [
       "<div>\n",
       "<style scoped>\n",
       "    .dataframe tbody tr th:only-of-type {\n",
       "        vertical-align: middle;\n",
       "    }\n",
       "\n",
       "    .dataframe tbody tr th {\n",
       "        vertical-align: top;\n",
       "    }\n",
       "\n",
       "    .dataframe thead th {\n",
       "        text-align: right;\n",
       "    }\n",
       "</style>\n",
       "<table border=\"1\" class=\"dataframe\">\n",
       "  <thead>\n",
       "    <tr style=\"text-align: right;\">\n",
       "      <th></th>\n",
       "      <th>tweets</th>\n",
       "      <th>type_of_disaster</th>\n",
       "      <th>relevance</th>\n",
       "      <th>hashtags</th>\n",
       "    </tr>\n",
       "  </thead>\n",
       "  <tbody>\n",
       "    <tr>\n",
       "      <th>1095</th>\n",
       "      <td>colorado springs</td>\n",
       "      <td>not disaster</td>\n",
       "      <td>0.0</td>\n",
       "      <td>NaN</td>\n",
       "    </tr>\n",
       "    <tr>\n",
       "      <th>1132</th>\n",
       "      <td>gameofthrones happy thofjuly to all the gotfan...</td>\n",
       "      <td>not disaster</td>\n",
       "      <td>1.0</td>\n",
       "      <td>['gotfans', 'wildfire']</td>\n",
       "    </tr>\n",
       "    <tr>\n",
       "      <th>1715</th>\n",
       "      <td>eahquake</td>\n",
       "      <td>not disaster</td>\n",
       "      <td>0.0</td>\n",
       "      <td>['earthquake']</td>\n",
       "    </tr>\n",
       "    <tr>\n",
       "      <th>1996</th>\n",
       "      <td>zishin m km eahquake</td>\n",
       "      <td>not disaster</td>\n",
       "      <td>0.0</td>\n",
       "      <td>['earthquake']</td>\n",
       "    </tr>\n",
       "    <tr>\n",
       "      <th>2015</th>\n",
       "      <td>eahquake m virgin islands region september gmt</td>\n",
       "      <td>not disaster</td>\n",
       "      <td>0.0</td>\n",
       "      <td>['earthquake']</td>\n",
       "    </tr>\n",
       "    <tr>\n",
       "      <th>...</th>\n",
       "      <td>...</td>\n",
       "      <td>...</td>\n",
       "      <td>...</td>\n",
       "      <td>...</td>\n",
       "    </tr>\n",
       "    <tr>\n",
       "      <th>137872</th>\n",
       "      <td>livingsafely nws issues severe thunderstorm wa...</td>\n",
       "      <td>not disaster</td>\n",
       "      <td>1.0</td>\n",
       "      <td>NaN</td>\n",
       "    </tr>\n",
       "    <tr>\n",
       "      <th>137876</th>\n",
       "      <td>evacuation order lifted for town of roosevelt ...</td>\n",
       "      <td>not disaster</td>\n",
       "      <td>0.0</td>\n",
       "      <td>NaN</td>\n",
       "    </tr>\n",
       "    <tr>\n",
       "      <th>137880</th>\n",
       "      <td>breaking la refugio oil spill may have been co...</td>\n",
       "      <td>not disaster</td>\n",
       "      <td>0.0</td>\n",
       "      <td>NaN</td>\n",
       "    </tr>\n",
       "    <tr>\n",
       "      <th>137892</th>\n",
       "      <td>police investigating after an e bike collided ...</td>\n",
       "      <td>not disaster</td>\n",
       "      <td>0.0</td>\n",
       "      <td>NaN</td>\n",
       "    </tr>\n",
       "    <tr>\n",
       "      <th>137894</th>\n",
       "      <td>meg issues hazardous weather outlook hwo http ...</td>\n",
       "      <td>not disaster</td>\n",
       "      <td>0.0</td>\n",
       "      <td>NaN</td>\n",
       "    </tr>\n",
       "  </tbody>\n",
       "</table>\n",
       "<p>3000 rows × 4 columns</p>\n",
       "</div>"
      ],
      "text/plain": [
       "                                                   tweets type_of_disaster  \\\n",
       "1095                                     colorado springs     not disaster   \n",
       "1132    gameofthrones happy thofjuly to all the gotfan...     not disaster   \n",
       "1715                                             eahquake     not disaster   \n",
       "1996                                 zishin m km eahquake     not disaster   \n",
       "2015       eahquake m virgin islands region september gmt     not disaster   \n",
       "...                                                   ...              ...   \n",
       "137872  livingsafely nws issues severe thunderstorm wa...     not disaster   \n",
       "137876  evacuation order lifted for town of roosevelt ...     not disaster   \n",
       "137880  breaking la refugio oil spill may have been co...     not disaster   \n",
       "137892  police investigating after an e bike collided ...     not disaster   \n",
       "137894  meg issues hazardous weather outlook hwo http ...     not disaster   \n",
       "\n",
       "        relevance                 hashtags  \n",
       "1095          0.0                      NaN  \n",
       "1132          1.0  ['gotfans', 'wildfire']  \n",
       "1715          0.0           ['earthquake']  \n",
       "1996          0.0           ['earthquake']  \n",
       "2015          0.0           ['earthquake']  \n",
       "...           ...                      ...  \n",
       "137872        1.0                      NaN  \n",
       "137876        0.0                      NaN  \n",
       "137880        0.0                      NaN  \n",
       "137892        0.0                      NaN  \n",
       "137894        0.0                      NaN  \n",
       "\n",
       "[3000 rows x 4 columns]"
      ]
     },
     "execution_count": 5,
     "metadata": {},
     "output_type": "execute_result"
    }
   ],
   "source": [
    "class_df = df[df['type_of_disaster'] == 'not disaster']\n",
    "duplicate = class_df[class_df.duplicated()]\n",
    " \n",
    "print(\"Duplicate Rows for not disaster :\")\n",
    " \n",
    "\n",
    "duplicate"
   ]
  },
  {
   "cell_type": "code",
   "execution_count": 6,
   "id": "9840aaf5",
   "metadata": {},
   "outputs": [],
   "source": [
    "class_df = df[df['type_of_disaster'] == 'not disaster']\n",
    "file_path = 'temp2.csv'\n",
    "class_df.to_csv(file_path, index=False)"
   ]
  },
  {
   "cell_type": "code",
   "execution_count": 7,
   "id": "ffff53bc",
   "metadata": {},
   "outputs": [
    {
     "data": {
      "text/html": [
       "<div>\n",
       "<style scoped>\n",
       "    .dataframe tbody tr th:only-of-type {\n",
       "        vertical-align: middle;\n",
       "    }\n",
       "\n",
       "    .dataframe tbody tr th {\n",
       "        vertical-align: top;\n",
       "    }\n",
       "\n",
       "    .dataframe thead th {\n",
       "        text-align: right;\n",
       "    }\n",
       "</style>\n",
       "<table border=\"1\" class=\"dataframe\">\n",
       "  <thead>\n",
       "    <tr style=\"text-align: right;\">\n",
       "      <th></th>\n",
       "      <th>tweets</th>\n",
       "      <th>type_of_disaster</th>\n",
       "      <th>relevance</th>\n",
       "      <th>hashtags</th>\n",
       "    </tr>\n",
       "  </thead>\n",
       "  <tbody>\n",
       "    <tr>\n",
       "      <th>0</th>\n",
       "      <td>intern us tattoo wisconsin ohio nc pa florida ...</td>\n",
       "      <td>not disaster</td>\n",
       "      <td>0.0</td>\n",
       "      <td>['intern', 'us', 'tattoo', 'wisconsin', 'ohio'...</td>\n",
       "    </tr>\n",
       "    <tr>\n",
       "      <th>1</th>\n",
       "      <td>jack ward get in on the fun every thursday wit...</td>\n",
       "      <td>not disaster</td>\n",
       "      <td>0.0</td>\n",
       "      <td>['funbrief', 'cosprings', 'colorado']</td>\n",
       "    </tr>\n",
       "    <tr>\n",
       "      <th>2</th>\n",
       "      <td>welcome to our newest studentathlete reagan bi...</td>\n",
       "      <td>not disaster</td>\n",
       "      <td>0.0</td>\n",
       "      <td>NaN</td>\n",
       "    </tr>\n",
       "    <tr>\n",
       "      <th>3</th>\n",
       "      <td>denver post colorado governor signs bill creat...</td>\n",
       "      <td>not disaster</td>\n",
       "      <td>0.0</td>\n",
       "      <td>['colorado', 'opengov']</td>\n",
       "    </tr>\n",
       "    <tr>\n",
       "      <th>4</th>\n",
       "      <td>pretty sure i m going to live in manitou sprin...</td>\n",
       "      <td>not disaster</td>\n",
       "      <td>0.0</td>\n",
       "      <td>['theplan']</td>\n",
       "    </tr>\n",
       "    <tr>\n",
       "      <th>...</th>\n",
       "      <td>...</td>\n",
       "      <td>...</td>\n",
       "      <td>...</td>\n",
       "      <td>...</td>\n",
       "    </tr>\n",
       "    <tr>\n",
       "      <th>78070</th>\n",
       "      <td>how the granddaddy of them all of food trucks ...</td>\n",
       "      <td>not disaster</td>\n",
       "      <td>0.0</td>\n",
       "      <td>NaN</td>\n",
       "    </tr>\n",
       "    <tr>\n",
       "      <th>78071</th>\n",
       "      <td>thanky you sissy celebration of bihday with be...</td>\n",
       "      <td>not disaster</td>\n",
       "      <td>0.0</td>\n",
       "      <td>NaN</td>\n",
       "    </tr>\n",
       "    <tr>\n",
       "      <th>78072</th>\n",
       "      <td>the food is very sweet the food is not sweet</td>\n",
       "      <td>not disaster</td>\n",
       "      <td>0.0</td>\n",
       "      <td>NaN</td>\n",
       "    </tr>\n",
       "    <tr>\n",
       "      <th>78073</th>\n",
       "      <td>the police car that lives on my street got pro...</td>\n",
       "      <td>not disaster</td>\n",
       "      <td>0.0</td>\n",
       "      <td>NaN</td>\n",
       "    </tr>\n",
       "    <tr>\n",
       "      <th>78074</th>\n",
       "      <td>we are so lucky to live in this great city bri...</td>\n",
       "      <td>not disaster</td>\n",
       "      <td>0.0</td>\n",
       "      <td>['bristol', 'bristol', 'foodanddrinkpic']</td>\n",
       "    </tr>\n",
       "  </tbody>\n",
       "</table>\n",
       "<p>78075 rows × 4 columns</p>\n",
       "</div>"
      ],
      "text/plain": [
       "                                                  tweets type_of_disaster  \\\n",
       "0      intern us tattoo wisconsin ohio nc pa florida ...     not disaster   \n",
       "1      jack ward get in on the fun every thursday wit...     not disaster   \n",
       "2      welcome to our newest studentathlete reagan bi...     not disaster   \n",
       "3      denver post colorado governor signs bill creat...     not disaster   \n",
       "4      pretty sure i m going to live in manitou sprin...     not disaster   \n",
       "...                                                  ...              ...   \n",
       "78070  how the granddaddy of them all of food trucks ...     not disaster   \n",
       "78071  thanky you sissy celebration of bihday with be...     not disaster   \n",
       "78072       the food is very sweet the food is not sweet     not disaster   \n",
       "78073  the police car that lives on my street got pro...     not disaster   \n",
       "78074  we are so lucky to live in this great city bri...     not disaster   \n",
       "\n",
       "       relevance                                           hashtags  \n",
       "0            0.0  ['intern', 'us', 'tattoo', 'wisconsin', 'ohio'...  \n",
       "1            0.0              ['funbrief', 'cosprings', 'colorado']  \n",
       "2            0.0                                                NaN  \n",
       "3            0.0                            ['colorado', 'opengov']  \n",
       "4            0.0                                        ['theplan']  \n",
       "...          ...                                                ...  \n",
       "78070        0.0                                                NaN  \n",
       "78071        0.0                                                NaN  \n",
       "78072        0.0                                                NaN  \n",
       "78073        0.0                                                NaN  \n",
       "78074        0.0          ['bristol', 'bristol', 'foodanddrinkpic']  \n",
       "\n",
       "[78075 rows x 4 columns]"
      ]
     },
     "execution_count": 7,
     "metadata": {},
     "output_type": "execute_result"
    }
   ],
   "source": [
    "newest_df=pd.read_csv('temp2.csv')\n",
    "newest_df"
   ]
  },
  {
   "cell_type": "code",
   "execution_count": 8,
   "id": "19f70cb9",
   "metadata": {},
   "outputs": [
    {
     "data": {
      "text/plain": [
       "(142303, 4)"
      ]
     },
     "execution_count": 8,
     "metadata": {},
     "output_type": "execute_result"
    }
   ],
   "source": [
    "indexnan =df[df['type_of_disaster'] == 'not disaster'].index\n",
    "df.drop(indexnan , inplace=True)\n",
    "df.shape"
   ]
  },
  {
   "cell_type": "code",
   "execution_count": 9,
   "id": "c019f28d",
   "metadata": {},
   "outputs": [
    {
     "data": {
      "text/plain": [
       "(75075, 4)"
      ]
     },
     "execution_count": 9,
     "metadata": {},
     "output_type": "execute_result"
    }
   ],
   "source": [
    "newest_df = newest_df.drop_duplicates(keep='first')\n",
    "\n",
    "# Reset the index if needed\n",
    "newest_df = newest_df.reset_index(drop=True)\n",
    "newest_df.shape"
   ]
  },
  {
   "cell_type": "code",
   "execution_count": 10,
   "id": "13720856",
   "metadata": {},
   "outputs": [],
   "source": [
    "\n",
    "file_path = 'temp_df2.csv'\n",
    "df.to_csv(file_path, index=False)"
   ]
  },
  {
   "cell_type": "code",
   "execution_count": 11,
   "id": "46f2426f",
   "metadata": {},
   "outputs": [
    {
     "data": {
      "text/plain": [
       "(217378, 4)"
      ]
     },
     "execution_count": 11,
     "metadata": {},
     "output_type": "execute_result"
    }
   ],
   "source": [
    "result_df = pd.concat([df.reset_index(drop=True), newest_df.reset_index(drop=True)], axis=0)\n",
    "result_df.shape"
   ]
  },
  {
   "cell_type": "code",
   "execution_count": 12,
   "id": "be785084",
   "metadata": {},
   "outputs": [],
   "source": [
    "\n",
    "file_path = 'final_cleaned_processed.csv'\n",
    "result_df.to_csv(file_path, index=False)"
   ]
  },
  {
   "cell_type": "markdown",
   "id": "9e34717f",
   "metadata": {},
   "source": [
    "since Hurricane is majority class in type of disaster for a disaster. I would remove just its duplicates for now to create a mor e balanced class"
   ]
  },
  {
   "cell_type": "markdown",
   "id": "403665fb",
   "metadata": {},
   "source": [
    "we will handle the class imbalance later during modelling"
   ]
  },
  {
   "cell_type": "code",
   "execution_count": 21,
   "id": "5d846038",
   "metadata": {},
   "outputs": [
    {
     "data": {
      "text/plain": [
       "(217378, 4)"
      ]
     },
     "execution_count": 21,
     "metadata": {},
     "output_type": "execute_result"
    }
   ],
   "source": [
    "df=pd.read_csv('final_cleaned_processed.csv')\n",
    "df.shape"
   ]
  },
  {
   "cell_type": "code",
   "execution_count": 16,
   "id": "bff95c07",
   "metadata": {},
   "outputs": [
    {
     "name": "stdout",
     "output_type": "stream",
     "text": [
      "Collecting textblob\n",
      "  Downloading textblob-0.17.1-py2.py3-none-any.whl (636 kB)\n",
      "Requirement already satisfied: nltk>=3.1 in c:\\users\\asus\\anaconda3\\lib\\site-packages (from textblob) (3.7)\n",
      "Requirement already satisfied: click in c:\\users\\asus\\anaconda3\\lib\\site-packages (from nltk>=3.1->textblob) (8.1.6)\n",
      "Requirement already satisfied: joblib in c:\\users\\asus\\anaconda3\\lib\\site-packages (from nltk>=3.1->textblob) (1.3.2)\n",
      "Requirement already satisfied: tqdm in c:\\users\\asus\\anaconda3\\lib\\site-packages (from nltk>=3.1->textblob) (4.65.0)\n",
      "Requirement already satisfied: regex>=2021.8.3 in c:\\users\\asus\\anaconda3\\lib\\site-packages (from nltk>=3.1->textblob) (2022.3.15)\n",
      "Requirement already satisfied: colorama in c:\\users\\asus\\anaconda3\\lib\\site-packages (from click->nltk>=3.1->textblob) (0.3.9)\n",
      "Installing collected packages: textblob\n",
      "Successfully installed textblob-0.17.1\n",
      "Note: you may need to restart the kernel to use updated packages.\n"
     ]
    },
    {
     "name": "stderr",
     "output_type": "stream",
     "text": [
      "WARNING: Ignoring invalid distribution -rotobuf (c:\\users\\asus\\anaconda3\\lib\\site-packages)\n",
      "WARNING: Ignoring invalid distribution -rotobuf (c:\\users\\asus\\anaconda3\\lib\\site-packages)\n",
      "WARNING: Ignoring invalid distribution -rotobuf (c:\\users\\asus\\anaconda3\\lib\\site-packages)\n",
      "WARNING: Ignoring invalid distribution -rotobuf (c:\\users\\asus\\anaconda3\\lib\\site-packages)\n",
      "WARNING: Ignoring invalid distribution -rotobuf (c:\\users\\asus\\anaconda3\\lib\\site-packages)\n",
      "WARNING: Ignoring invalid distribution -rotobuf (c:\\users\\asus\\anaconda3\\lib\\site-packages)\n",
      "WARNING: Ignoring invalid distribution -rotobuf (c:\\users\\asus\\anaconda3\\lib\\site-packages)\n"
     ]
    }
   ],
   "source": [
    "pip install textblob"
   ]
  },
  {
   "cell_type": "code",
   "execution_count": 23,
   "id": "6f3222f7",
   "metadata": {},
   "outputs": [],
   "source": [
    "class_df = df[df['type_of_disaster'] == 'not disaster']\n",
    "file_path = 'not_disaster.csv'\n",
    "class_df.to_csv(file_path, index=False)"
   ]
  },
  {
   "cell_type": "code",
   "execution_count": 30,
   "id": "9e71e9dc",
   "metadata": {},
   "outputs": [
    {
     "data": {
      "text/html": [
       "<div>\n",
       "<style scoped>\n",
       "    .dataframe tbody tr th:only-of-type {\n",
       "        vertical-align: middle;\n",
       "    }\n",
       "\n",
       "    .dataframe tbody tr th {\n",
       "        vertical-align: top;\n",
       "    }\n",
       "\n",
       "    .dataframe thead th {\n",
       "        text-align: right;\n",
       "    }\n",
       "</style>\n",
       "<table border=\"1\" class=\"dataframe\">\n",
       "  <thead>\n",
       "    <tr style=\"text-align: right;\">\n",
       "      <th></th>\n",
       "      <th>tweets</th>\n",
       "      <th>type_of_disaster</th>\n",
       "      <th>relevance</th>\n",
       "      <th>hashtags</th>\n",
       "    </tr>\n",
       "  </thead>\n",
       "  <tbody>\n",
       "    <tr>\n",
       "      <th>0</th>\n",
       "      <td>intern us tattoo wisconsin ohio nc pa florida ...</td>\n",
       "      <td>not disaster</td>\n",
       "      <td>0.0</td>\n",
       "      <td>['intern', 'us', 'tattoo', 'wisconsin', 'ohio'...</td>\n",
       "    </tr>\n",
       "    <tr>\n",
       "      <th>1</th>\n",
       "      <td>jack ward get in on the fun every thursday wit...</td>\n",
       "      <td>not disaster</td>\n",
       "      <td>0.0</td>\n",
       "      <td>['funbrief', 'cosprings', 'colorado']</td>\n",
       "    </tr>\n",
       "    <tr>\n",
       "      <th>2</th>\n",
       "      <td>welcome to our newest studentathlete reagan bi...</td>\n",
       "      <td>not disaster</td>\n",
       "      <td>0.0</td>\n",
       "      <td>NaN</td>\n",
       "    </tr>\n",
       "    <tr>\n",
       "      <th>3</th>\n",
       "      <td>denver post colorado governor signs bill creat...</td>\n",
       "      <td>not disaster</td>\n",
       "      <td>0.0</td>\n",
       "      <td>['colorado', 'opengov']</td>\n",
       "    </tr>\n",
       "    <tr>\n",
       "      <th>4</th>\n",
       "      <td>pretty sure i m going to live in manitou sprin...</td>\n",
       "      <td>not disaster</td>\n",
       "      <td>0.0</td>\n",
       "      <td>['theplan']</td>\n",
       "    </tr>\n",
       "    <tr>\n",
       "      <th>...</th>\n",
       "      <td>...</td>\n",
       "      <td>...</td>\n",
       "      <td>...</td>\n",
       "      <td>...</td>\n",
       "    </tr>\n",
       "    <tr>\n",
       "      <th>75070</th>\n",
       "      <td>how the granddaddy of them all of food trucks ...</td>\n",
       "      <td>not disaster</td>\n",
       "      <td>0.0</td>\n",
       "      <td>NaN</td>\n",
       "    </tr>\n",
       "    <tr>\n",
       "      <th>75071</th>\n",
       "      <td>thanky you sissy celebration of bihday with be...</td>\n",
       "      <td>not disaster</td>\n",
       "      <td>0.0</td>\n",
       "      <td>NaN</td>\n",
       "    </tr>\n",
       "    <tr>\n",
       "      <th>75072</th>\n",
       "      <td>the food is very sweet the food is not sweet</td>\n",
       "      <td>not disaster</td>\n",
       "      <td>0.0</td>\n",
       "      <td>NaN</td>\n",
       "    </tr>\n",
       "    <tr>\n",
       "      <th>75073</th>\n",
       "      <td>the police car that lives on my street got pro...</td>\n",
       "      <td>not disaster</td>\n",
       "      <td>0.0</td>\n",
       "      <td>NaN</td>\n",
       "    </tr>\n",
       "    <tr>\n",
       "      <th>75074</th>\n",
       "      <td>we are so lucky to live in this great city bri...</td>\n",
       "      <td>not disaster</td>\n",
       "      <td>0.0</td>\n",
       "      <td>['bristol', 'bristol', 'foodanddrinkpic']</td>\n",
       "    </tr>\n",
       "  </tbody>\n",
       "</table>\n",
       "<p>75075 rows × 4 columns</p>\n",
       "</div>"
      ],
      "text/plain": [
       "                                                  tweets type_of_disaster  \\\n",
       "0      intern us tattoo wisconsin ohio nc pa florida ...     not disaster   \n",
       "1      jack ward get in on the fun every thursday wit...     not disaster   \n",
       "2      welcome to our newest studentathlete reagan bi...     not disaster   \n",
       "3      denver post colorado governor signs bill creat...     not disaster   \n",
       "4      pretty sure i m going to live in manitou sprin...     not disaster   \n",
       "...                                                  ...              ...   \n",
       "75070  how the granddaddy of them all of food trucks ...     not disaster   \n",
       "75071  thanky you sissy celebration of bihday with be...     not disaster   \n",
       "75072       the food is very sweet the food is not sweet     not disaster   \n",
       "75073  the police car that lives on my street got pro...     not disaster   \n",
       "75074  we are so lucky to live in this great city bri...     not disaster   \n",
       "\n",
       "       relevance                                           hashtags  \n",
       "0            0.0  ['intern', 'us', 'tattoo', 'wisconsin', 'ohio'...  \n",
       "1            0.0              ['funbrief', 'cosprings', 'colorado']  \n",
       "2            0.0                                                NaN  \n",
       "3            0.0                            ['colorado', 'opengov']  \n",
       "4            0.0                                        ['theplan']  \n",
       "...          ...                                                ...  \n",
       "75070        0.0                                                NaN  \n",
       "75071        0.0                                                NaN  \n",
       "75072        0.0                                                NaN  \n",
       "75073        0.0                                                NaN  \n",
       "75074        0.0          ['bristol', 'bristol', 'foodanddrinkpic']  \n",
       "\n",
       "[75075 rows x 4 columns]"
      ]
     },
     "execution_count": 30,
     "metadata": {},
     "output_type": "execute_result"
    }
   ],
   "source": [
    "newest_df=pd.read_csv('not_disaster.csv')\n",
    "newest_df"
   ]
  },
  {
   "cell_type": "code",
   "execution_count": 32,
   "id": "ef052d5d",
   "metadata": {},
   "outputs": [
    {
     "data": {
      "text/plain": [
       "(142303, 4)"
      ]
     },
     "execution_count": 32,
     "metadata": {},
     "output_type": "execute_result"
    }
   ],
   "source": [
    "indexnan =df[df['type_of_disaster'] == 'not disaster'].index\n",
    "df.drop(indexnan , inplace=True)\n",
    "df.shape"
   ]
  },
  {
   "cell_type": "code",
   "execution_count": 29,
   "id": "964f0278",
   "metadata": {},
   "outputs": [
    {
     "ename": "KeyboardInterrupt",
     "evalue": "",
     "output_type": "error",
     "traceback": [
      "\u001b[1;31m---------------------------------------------------------------------------\u001b[0m",
      "\u001b[1;31mKeyboardInterrupt\u001b[0m                         Traceback (most recent call last)",
      "Input \u001b[1;32mIn [29]\u001b[0m, in \u001b[0;36m<cell line: 2>\u001b[1;34m()\u001b[0m\n\u001b[0;32m      1\u001b[0m \u001b[38;5;28;01mfrom\u001b[39;00m \u001b[38;5;21;01mtextblob\u001b[39;00m \u001b[38;5;28;01mimport\u001b[39;00m TextBlob\n\u001b[1;32m----> 2\u001b[0m newest_df[\u001b[38;5;124m'\u001b[39m\u001b[38;5;124mtweets\u001b[39m\u001b[38;5;124m'\u001b[39m]\u001b[38;5;241m=\u001b[39m\u001b[43mnewest_df\u001b[49m\u001b[43m[\u001b[49m\u001b[38;5;124;43m'\u001b[39;49m\u001b[38;5;124;43mtweets\u001b[39;49m\u001b[38;5;124;43m'\u001b[39;49m\u001b[43m]\u001b[49m\u001b[38;5;241;43m.\u001b[39;49m\u001b[43mapply\u001b[49m\u001b[43m(\u001b[49m\u001b[38;5;28;43;01mlambda\u001b[39;49;00m\u001b[43m \u001b[49m\u001b[43mx\u001b[49m\u001b[43m:\u001b[49m\u001b[38;5;28;43mstr\u001b[39;49m\u001b[43m(\u001b[49m\u001b[43mTextBlob\u001b[49m\u001b[43m(\u001b[49m\u001b[43mx\u001b[49m\u001b[43m)\u001b[49m\u001b[38;5;241;43m.\u001b[39;49m\u001b[43mcorrect\u001b[49m\u001b[43m(\u001b[49m\u001b[43m)\u001b[49m\u001b[43m)\u001b[49m\u001b[43m)\u001b[49m\n",
      "File \u001b[1;32m~\\anaconda3\\lib\\site-packages\\pandas\\core\\series.py:4630\u001b[0m, in \u001b[0;36mSeries.apply\u001b[1;34m(self, func, convert_dtype, args, **kwargs)\u001b[0m\n\u001b[0;32m   4520\u001b[0m \u001b[38;5;28;01mdef\u001b[39;00m \u001b[38;5;21mapply\u001b[39m(\n\u001b[0;32m   4521\u001b[0m     \u001b[38;5;28mself\u001b[39m,\n\u001b[0;32m   4522\u001b[0m     func: AggFuncType,\n\u001b[1;32m   (...)\u001b[0m\n\u001b[0;32m   4525\u001b[0m     \u001b[38;5;241m*\u001b[39m\u001b[38;5;241m*\u001b[39mkwargs,\n\u001b[0;32m   4526\u001b[0m ) \u001b[38;5;241m-\u001b[39m\u001b[38;5;241m>\u001b[39m DataFrame \u001b[38;5;241m|\u001b[39m Series:\n\u001b[0;32m   4527\u001b[0m \u001b[38;5;250m    \u001b[39m\u001b[38;5;124;03m\"\"\"\u001b[39;00m\n\u001b[0;32m   4528\u001b[0m \u001b[38;5;124;03m    Invoke function on values of Series.\u001b[39;00m\n\u001b[0;32m   4529\u001b[0m \n\u001b[1;32m   (...)\u001b[0m\n\u001b[0;32m   4628\u001b[0m \u001b[38;5;124;03m    dtype: float64\u001b[39;00m\n\u001b[0;32m   4629\u001b[0m \u001b[38;5;124;03m    \"\"\"\u001b[39;00m\n\u001b[1;32m-> 4630\u001b[0m     \u001b[38;5;28;01mreturn\u001b[39;00m \u001b[43mSeriesApply\u001b[49m\u001b[43m(\u001b[49m\u001b[38;5;28;43mself\u001b[39;49m\u001b[43m,\u001b[49m\u001b[43m \u001b[49m\u001b[43mfunc\u001b[49m\u001b[43m,\u001b[49m\u001b[43m \u001b[49m\u001b[43mconvert_dtype\u001b[49m\u001b[43m,\u001b[49m\u001b[43m \u001b[49m\u001b[43margs\u001b[49m\u001b[43m,\u001b[49m\u001b[43m \u001b[49m\u001b[43mkwargs\u001b[49m\u001b[43m)\u001b[49m\u001b[38;5;241;43m.\u001b[39;49m\u001b[43mapply\u001b[49m\u001b[43m(\u001b[49m\u001b[43m)\u001b[49m\n",
      "File \u001b[1;32m~\\anaconda3\\lib\\site-packages\\pandas\\core\\apply.py:1025\u001b[0m, in \u001b[0;36mSeriesApply.apply\u001b[1;34m(self)\u001b[0m\n\u001b[0;32m   1022\u001b[0m     \u001b[38;5;28;01mreturn\u001b[39;00m \u001b[38;5;28mself\u001b[39m\u001b[38;5;241m.\u001b[39mapply_str()\n\u001b[0;32m   1024\u001b[0m \u001b[38;5;66;03m# self.f is Callable\u001b[39;00m\n\u001b[1;32m-> 1025\u001b[0m \u001b[38;5;28;01mreturn\u001b[39;00m \u001b[38;5;28;43mself\u001b[39;49m\u001b[38;5;241;43m.\u001b[39;49m\u001b[43mapply_standard\u001b[49m\u001b[43m(\u001b[49m\u001b[43m)\u001b[49m\n",
      "File \u001b[1;32m~\\anaconda3\\lib\\site-packages\\pandas\\core\\apply.py:1076\u001b[0m, in \u001b[0;36mSeriesApply.apply_standard\u001b[1;34m(self)\u001b[0m\n\u001b[0;32m   1074\u001b[0m     \u001b[38;5;28;01melse\u001b[39;00m:\n\u001b[0;32m   1075\u001b[0m         values \u001b[38;5;241m=\u001b[39m obj\u001b[38;5;241m.\u001b[39mastype(\u001b[38;5;28mobject\u001b[39m)\u001b[38;5;241m.\u001b[39m_values\n\u001b[1;32m-> 1076\u001b[0m         mapped \u001b[38;5;241m=\u001b[39m \u001b[43mlib\u001b[49m\u001b[38;5;241;43m.\u001b[39;49m\u001b[43mmap_infer\u001b[49m\u001b[43m(\u001b[49m\n\u001b[0;32m   1077\u001b[0m \u001b[43m            \u001b[49m\u001b[43mvalues\u001b[49m\u001b[43m,\u001b[49m\n\u001b[0;32m   1078\u001b[0m \u001b[43m            \u001b[49m\u001b[43mf\u001b[49m\u001b[43m,\u001b[49m\n\u001b[0;32m   1079\u001b[0m \u001b[43m            \u001b[49m\u001b[43mconvert\u001b[49m\u001b[38;5;241;43m=\u001b[39;49m\u001b[38;5;28;43mself\u001b[39;49m\u001b[38;5;241;43m.\u001b[39;49m\u001b[43mconvert_dtype\u001b[49m\u001b[43m,\u001b[49m\n\u001b[0;32m   1080\u001b[0m \u001b[43m        \u001b[49m\u001b[43m)\u001b[49m\n\u001b[0;32m   1082\u001b[0m \u001b[38;5;28;01mif\u001b[39;00m \u001b[38;5;28mlen\u001b[39m(mapped) \u001b[38;5;129;01mand\u001b[39;00m \u001b[38;5;28misinstance\u001b[39m(mapped[\u001b[38;5;241m0\u001b[39m], ABCSeries):\n\u001b[0;32m   1083\u001b[0m     \u001b[38;5;66;03m# GH#43986 Need to do list(mapped) in order to get treated as nested\u001b[39;00m\n\u001b[0;32m   1084\u001b[0m     \u001b[38;5;66;03m#  See also GH#25959 regarding EA support\u001b[39;00m\n\u001b[0;32m   1085\u001b[0m     \u001b[38;5;28;01mreturn\u001b[39;00m obj\u001b[38;5;241m.\u001b[39m_constructor_expanddim(\u001b[38;5;28mlist\u001b[39m(mapped), index\u001b[38;5;241m=\u001b[39mobj\u001b[38;5;241m.\u001b[39mindex)\n",
      "File \u001b[1;32m~\\anaconda3\\lib\\site-packages\\pandas\\_libs\\lib.pyx:2834\u001b[0m, in \u001b[0;36mpandas._libs.lib.map_infer\u001b[1;34m()\u001b[0m\n",
      "Input \u001b[1;32mIn [29]\u001b[0m, in \u001b[0;36m<lambda>\u001b[1;34m(x)\u001b[0m\n\u001b[0;32m      1\u001b[0m \u001b[38;5;28;01mfrom\u001b[39;00m \u001b[38;5;21;01mtextblob\u001b[39;00m \u001b[38;5;28;01mimport\u001b[39;00m TextBlob\n\u001b[1;32m----> 2\u001b[0m newest_df[\u001b[38;5;124m'\u001b[39m\u001b[38;5;124mtweets\u001b[39m\u001b[38;5;124m'\u001b[39m]\u001b[38;5;241m=\u001b[39mnewest_df[\u001b[38;5;124m'\u001b[39m\u001b[38;5;124mtweets\u001b[39m\u001b[38;5;124m'\u001b[39m]\u001b[38;5;241m.\u001b[39mapply(\u001b[38;5;28;01mlambda\u001b[39;00m x:\u001b[38;5;28mstr\u001b[39m(\u001b[43mTextBlob\u001b[49m\u001b[43m(\u001b[49m\u001b[43mx\u001b[49m\u001b[43m)\u001b[49m\u001b[38;5;241;43m.\u001b[39;49m\u001b[43mcorrect\u001b[49m\u001b[43m(\u001b[49m\u001b[43m)\u001b[49m))\n",
      "File \u001b[1;32m~\\anaconda3\\lib\\site-packages\\textblob\\blob.py:609\u001b[0m, in \u001b[0;36mBaseBlob.correct\u001b[1;34m(self)\u001b[0m\n\u001b[0;32m    607\u001b[0m tokens \u001b[38;5;241m=\u001b[39m nltk\u001b[38;5;241m.\u001b[39mtokenize\u001b[38;5;241m.\u001b[39mregexp_tokenize(\u001b[38;5;28mself\u001b[39m\u001b[38;5;241m.\u001b[39mraw, \u001b[38;5;124mr\u001b[39m\u001b[38;5;124m\"\u001b[39m\u001b[38;5;124m\\\u001b[39m\u001b[38;5;124mw+|[^\u001b[39m\u001b[38;5;124m\\\u001b[39m\u001b[38;5;124mw\u001b[39m\u001b[38;5;124m\\\u001b[39m\u001b[38;5;124ms]|\u001b[39m\u001b[38;5;124m\\\u001b[39m\u001b[38;5;124ms\u001b[39m\u001b[38;5;124m\"\u001b[39m)\n\u001b[0;32m    608\u001b[0m corrected \u001b[38;5;241m=\u001b[39m (Word(w)\u001b[38;5;241m.\u001b[39mcorrect() \u001b[38;5;28;01mfor\u001b[39;00m w \u001b[38;5;129;01min\u001b[39;00m tokens)\n\u001b[1;32m--> 609\u001b[0m ret \u001b[38;5;241m=\u001b[39m \u001b[38;5;124;43m'\u001b[39;49m\u001b[38;5;124;43m'\u001b[39;49m\u001b[38;5;241;43m.\u001b[39;49m\u001b[43mjoin\u001b[49m\u001b[43m(\u001b[49m\u001b[43mcorrected\u001b[49m\u001b[43m)\u001b[49m\n\u001b[0;32m    610\u001b[0m \u001b[38;5;28;01mreturn\u001b[39;00m \u001b[38;5;28mself\u001b[39m\u001b[38;5;241m.\u001b[39m\u001b[38;5;18m__class__\u001b[39m(ret)\n",
      "File \u001b[1;32m~\\anaconda3\\lib\\site-packages\\textblob\\blob.py:608\u001b[0m, in \u001b[0;36m<genexpr>\u001b[1;34m(.0)\u001b[0m\n\u001b[0;32m    606\u001b[0m \u001b[38;5;66;03m# regex matches: word or punctuation or whitespace\u001b[39;00m\n\u001b[0;32m    607\u001b[0m tokens \u001b[38;5;241m=\u001b[39m nltk\u001b[38;5;241m.\u001b[39mtokenize\u001b[38;5;241m.\u001b[39mregexp_tokenize(\u001b[38;5;28mself\u001b[39m\u001b[38;5;241m.\u001b[39mraw, \u001b[38;5;124mr\u001b[39m\u001b[38;5;124m\"\u001b[39m\u001b[38;5;124m\\\u001b[39m\u001b[38;5;124mw+|[^\u001b[39m\u001b[38;5;124m\\\u001b[39m\u001b[38;5;124mw\u001b[39m\u001b[38;5;124m\\\u001b[39m\u001b[38;5;124ms]|\u001b[39m\u001b[38;5;124m\\\u001b[39m\u001b[38;5;124ms\u001b[39m\u001b[38;5;124m\"\u001b[39m)\n\u001b[1;32m--> 608\u001b[0m corrected \u001b[38;5;241m=\u001b[39m (\u001b[43mWord\u001b[49m\u001b[43m(\u001b[49m\u001b[43mw\u001b[49m\u001b[43m)\u001b[49m\u001b[38;5;241;43m.\u001b[39;49m\u001b[43mcorrect\u001b[49m\u001b[43m(\u001b[49m\u001b[43m)\u001b[49m \u001b[38;5;28;01mfor\u001b[39;00m w \u001b[38;5;129;01min\u001b[39;00m tokens)\n\u001b[0;32m    609\u001b[0m ret \u001b[38;5;241m=\u001b[39m \u001b[38;5;124m'\u001b[39m\u001b[38;5;124m'\u001b[39m\u001b[38;5;241m.\u001b[39mjoin(corrected)\n\u001b[0;32m    610\u001b[0m \u001b[38;5;28;01mreturn\u001b[39;00m \u001b[38;5;28mself\u001b[39m\u001b[38;5;241m.\u001b[39m\u001b[38;5;18m__class__\u001b[39m(ret)\n",
      "File \u001b[1;32m~\\anaconda3\\lib\\site-packages\\textblob\\blob.py:142\u001b[0m, in \u001b[0;36mWord.correct\u001b[1;34m(self)\u001b[0m\n\u001b[0;32m    136\u001b[0m \u001b[38;5;28;01mdef\u001b[39;00m \u001b[38;5;21mcorrect\u001b[39m(\u001b[38;5;28mself\u001b[39m):\n\u001b[0;32m    137\u001b[0m \u001b[38;5;250m    \u001b[39m\u001b[38;5;124;03m'''Correct the spelling of the word. Returns the word with the highest\u001b[39;00m\n\u001b[0;32m    138\u001b[0m \u001b[38;5;124;03m    confidence using the spelling corrector.\u001b[39;00m\n\u001b[0;32m    139\u001b[0m \n\u001b[0;32m    140\u001b[0m \u001b[38;5;124;03m    .. versionadded:: 0.6.0\u001b[39;00m\n\u001b[0;32m    141\u001b[0m \u001b[38;5;124;03m    '''\u001b[39;00m\n\u001b[1;32m--> 142\u001b[0m     \u001b[38;5;28;01mreturn\u001b[39;00m Word(\u001b[38;5;28;43mself\u001b[39;49m\u001b[38;5;241;43m.\u001b[39;49m\u001b[43mspellcheck\u001b[49m\u001b[43m(\u001b[49m\u001b[43m)\u001b[49m[\u001b[38;5;241m0\u001b[39m][\u001b[38;5;241m0\u001b[39m])\n",
      "File \u001b[1;32m~\\anaconda3\\lib\\site-packages\\textblob\\blob.py:134\u001b[0m, in \u001b[0;36mWord.spellcheck\u001b[1;34m(self)\u001b[0m\n\u001b[0;32m    125\u001b[0m \u001b[38;5;28;01mdef\u001b[39;00m \u001b[38;5;21mspellcheck\u001b[39m(\u001b[38;5;28mself\u001b[39m):\n\u001b[0;32m    126\u001b[0m \u001b[38;5;250m    \u001b[39m\u001b[38;5;124;03m'''Return a list of (word, confidence) tuples of spelling corrections.\u001b[39;00m\n\u001b[0;32m    127\u001b[0m \n\u001b[0;32m    128\u001b[0m \u001b[38;5;124;03m    Based on: Peter Norvig, \"How to Write a Spelling Corrector\"\u001b[39;00m\n\u001b[1;32m   (...)\u001b[0m\n\u001b[0;32m    132\u001b[0m \u001b[38;5;124;03m    .. versionadded:: 0.6.0\u001b[39;00m\n\u001b[0;32m    133\u001b[0m \u001b[38;5;124;03m    '''\u001b[39;00m\n\u001b[1;32m--> 134\u001b[0m     \u001b[38;5;28;01mreturn\u001b[39;00m \u001b[43msuggest\u001b[49m\u001b[43m(\u001b[49m\u001b[38;5;28;43mself\u001b[39;49m\u001b[38;5;241;43m.\u001b[39;49m\u001b[43mstring\u001b[49m\u001b[43m)\u001b[49m\n",
      "File \u001b[1;32m~\\anaconda3\\lib\\site-packages\\textblob\\en\\__init__.py:123\u001b[0m, in \u001b[0;36msuggest\u001b[1;34m(w)\u001b[0m\n\u001b[0;32m    120\u001b[0m \u001b[38;5;28;01mdef\u001b[39;00m \u001b[38;5;21msuggest\u001b[39m(w):\n\u001b[0;32m    121\u001b[0m \u001b[38;5;250m    \u001b[39m\u001b[38;5;124;03m\"\"\" Returns a list of (word, confidence)-tuples of spelling corrections.\u001b[39;00m\n\u001b[0;32m    122\u001b[0m \u001b[38;5;124;03m    \"\"\"\u001b[39;00m\n\u001b[1;32m--> 123\u001b[0m     \u001b[38;5;28;01mreturn\u001b[39;00m \u001b[43mspelling\u001b[49m\u001b[38;5;241;43m.\u001b[39;49m\u001b[43msuggest\u001b[49m\u001b[43m(\u001b[49m\u001b[43mw\u001b[49m\u001b[43m)\u001b[49m\n",
      "File \u001b[1;32m~\\anaconda3\\lib\\site-packages\\textblob\\_text.py:1399\u001b[0m, in \u001b[0;36mSpelling.suggest\u001b[1;34m(self, w)\u001b[0m\n\u001b[0;32m   1395\u001b[0m \u001b[38;5;28;01mif\u001b[39;00m w\u001b[38;5;241m.\u001b[39mreplace(\u001b[38;5;124m\"\u001b[39m\u001b[38;5;124m.\u001b[39m\u001b[38;5;124m\"\u001b[39m, \u001b[38;5;124m\"\u001b[39m\u001b[38;5;124m\"\u001b[39m)\u001b[38;5;241m.\u001b[39misdigit():\n\u001b[0;32m   1396\u001b[0m     \u001b[38;5;28;01mreturn\u001b[39;00m [(w, \u001b[38;5;241m1.0\u001b[39m)] \u001b[38;5;66;03m# 1.5\u001b[39;00m\n\u001b[0;32m   1397\u001b[0m candidates \u001b[38;5;241m=\u001b[39m \u001b[38;5;28mself\u001b[39m\u001b[38;5;241m.\u001b[39m_known([w]) \\\n\u001b[0;32m   1398\u001b[0m           \u001b[38;5;129;01mor\u001b[39;00m \u001b[38;5;28mself\u001b[39m\u001b[38;5;241m.\u001b[39m_known(\u001b[38;5;28mself\u001b[39m\u001b[38;5;241m.\u001b[39m_edit1(w)) \\\n\u001b[1;32m-> 1399\u001b[0m           \u001b[38;5;129;01mor\u001b[39;00m \u001b[38;5;28mself\u001b[39m\u001b[38;5;241m.\u001b[39m_known(\u001b[38;5;28;43mself\u001b[39;49m\u001b[38;5;241;43m.\u001b[39;49m\u001b[43m_edit2\u001b[49m\u001b[43m(\u001b[49m\u001b[43mw\u001b[49m\u001b[43m)\u001b[49m) \\\n\u001b[0;32m   1400\u001b[0m           \u001b[38;5;129;01mor\u001b[39;00m [w]\n\u001b[0;32m   1401\u001b[0m candidates \u001b[38;5;241m=\u001b[39m [(\u001b[38;5;28mself\u001b[39m\u001b[38;5;241m.\u001b[39mget(c, \u001b[38;5;241m0.0\u001b[39m), c) \u001b[38;5;28;01mfor\u001b[39;00m c \u001b[38;5;129;01min\u001b[39;00m candidates]\n\u001b[0;32m   1402\u001b[0m s \u001b[38;5;241m=\u001b[39m \u001b[38;5;28mfloat\u001b[39m(\u001b[38;5;28msum\u001b[39m(p \u001b[38;5;28;01mfor\u001b[39;00m p, word \u001b[38;5;129;01min\u001b[39;00m candidates) \u001b[38;5;129;01mor\u001b[39;00m \u001b[38;5;241m1\u001b[39m)\n",
      "File \u001b[1;32m~\\anaconda3\\lib\\site-packages\\textblob\\_text.py:1376\u001b[0m, in \u001b[0;36mSpelling._edit2\u001b[1;34m(self, w)\u001b[0m\n\u001b[0;32m   1372\u001b[0m \u001b[38;5;250m\u001b[39m\u001b[38;5;124;03m\"\"\" Returns a set of words with edit distance 2 from the given word\u001b[39;00m\n\u001b[0;32m   1373\u001b[0m \u001b[38;5;124;03m\"\"\"\u001b[39;00m\n\u001b[0;32m   1374\u001b[0m \u001b[38;5;66;03m# Of all spelling errors, 99% is covered by edit distance 2.\u001b[39;00m\n\u001b[0;32m   1375\u001b[0m \u001b[38;5;66;03m# Only keep candidates that are actually known words (20% speedup).\u001b[39;00m\n\u001b[1;32m-> 1376\u001b[0m \u001b[38;5;28;01mreturn\u001b[39;00m \u001b[38;5;28;43mset\u001b[39;49m\u001b[43m(\u001b[49m\u001b[43me2\u001b[49m\u001b[43m \u001b[49m\u001b[38;5;28;43;01mfor\u001b[39;49;00m\u001b[43m \u001b[49m\u001b[43me1\u001b[49m\u001b[43m \u001b[49m\u001b[38;5;129;43;01min\u001b[39;49;00m\u001b[43m \u001b[49m\u001b[38;5;28;43mself\u001b[39;49m\u001b[38;5;241;43m.\u001b[39;49m\u001b[43m_edit1\u001b[49m\u001b[43m(\u001b[49m\u001b[43mw\u001b[49m\u001b[43m)\u001b[49m\u001b[43m \u001b[49m\u001b[38;5;28;43;01mfor\u001b[39;49;00m\u001b[43m \u001b[49m\u001b[43me2\u001b[49m\u001b[43m \u001b[49m\u001b[38;5;129;43;01min\u001b[39;49;00m\u001b[43m \u001b[49m\u001b[38;5;28;43mself\u001b[39;49m\u001b[38;5;241;43m.\u001b[39;49m\u001b[43m_edit1\u001b[49m\u001b[43m(\u001b[49m\u001b[43me1\u001b[49m\u001b[43m)\u001b[49m\u001b[43m \u001b[49m\u001b[38;5;28;43;01mif\u001b[39;49;00m\u001b[43m \u001b[49m\u001b[43me2\u001b[49m\u001b[43m \u001b[49m\u001b[38;5;129;43;01min\u001b[39;49;00m\u001b[43m \u001b[49m\u001b[38;5;28;43mself\u001b[39;49m\u001b[43m)\u001b[49m\n",
      "File \u001b[1;32m~\\anaconda3\\lib\\site-packages\\textblob\\_text.py:1376\u001b[0m, in \u001b[0;36m<genexpr>\u001b[1;34m(.0)\u001b[0m\n\u001b[0;32m   1372\u001b[0m \u001b[38;5;250m\u001b[39m\u001b[38;5;124;03m\"\"\" Returns a set of words with edit distance 2 from the given word\u001b[39;00m\n\u001b[0;32m   1373\u001b[0m \u001b[38;5;124;03m\"\"\"\u001b[39;00m\n\u001b[0;32m   1374\u001b[0m \u001b[38;5;66;03m# Of all spelling errors, 99% is covered by edit distance 2.\u001b[39;00m\n\u001b[0;32m   1375\u001b[0m \u001b[38;5;66;03m# Only keep candidates that are actually known words (20% speedup).\u001b[39;00m\n\u001b[1;32m-> 1376\u001b[0m \u001b[38;5;28;01mreturn\u001b[39;00m \u001b[38;5;28mset\u001b[39m(e2 \u001b[38;5;28;01mfor\u001b[39;00m e1 \u001b[38;5;129;01min\u001b[39;00m \u001b[38;5;28mself\u001b[39m\u001b[38;5;241m.\u001b[39m_edit1(w) \u001b[38;5;28;01mfor\u001b[39;00m e2 \u001b[38;5;129;01min\u001b[39;00m \u001b[38;5;28mself\u001b[39m\u001b[38;5;241m.\u001b[39m_edit1(e1) \u001b[38;5;28;01mif\u001b[39;00m \u001b[43me2\u001b[49m\u001b[43m \u001b[49m\u001b[38;5;129;43;01min\u001b[39;49;00m\u001b[43m \u001b[49m\u001b[38;5;28;43mself\u001b[39;49m)\n",
      "File \u001b[1;32m~\\anaconda3\\lib\\site-packages\\textblob\\_text.py:96\u001b[0m, in \u001b[0;36mlazydict.__contains__\u001b[1;34m(self, *args)\u001b[0m\n\u001b[0;32m     95\u001b[0m \u001b[38;5;28;01mdef\u001b[39;00m \u001b[38;5;21m__contains__\u001b[39m(\u001b[38;5;28mself\u001b[39m, \u001b[38;5;241m*\u001b[39margs):\n\u001b[1;32m---> 96\u001b[0m     \u001b[38;5;28;01mreturn\u001b[39;00m \u001b[38;5;28;43mself\u001b[39;49m\u001b[38;5;241;43m.\u001b[39;49m\u001b[43m_lazy\u001b[49m\u001b[43m(\u001b[49m\u001b[38;5;124;43m\"\u001b[39;49m\u001b[38;5;124;43m__contains__\u001b[39;49m\u001b[38;5;124;43m\"\u001b[39;49m\u001b[43m,\u001b[49m\u001b[43m \u001b[49m\u001b[38;5;241;43m*\u001b[39;49m\u001b[43margs\u001b[49m\u001b[43m)\u001b[49m\n",
      "File \u001b[1;32m~\\anaconda3\\lib\\site-packages\\textblob\\_text.py:87\u001b[0m, in \u001b[0;36mlazydict._lazy\u001b[1;34m(self, method, *args)\u001b[0m\n\u001b[0;32m     85\u001b[0m     \u001b[38;5;28mself\u001b[39m\u001b[38;5;241m.\u001b[39mload()\n\u001b[0;32m     86\u001b[0m     \u001b[38;5;28msetattr\u001b[39m(\u001b[38;5;28mself\u001b[39m, method, types\u001b[38;5;241m.\u001b[39mMethodType(\u001b[38;5;28mgetattr\u001b[39m(\u001b[38;5;28mdict\u001b[39m, method), \u001b[38;5;28mself\u001b[39m))\n\u001b[1;32m---> 87\u001b[0m \u001b[38;5;28;01mreturn\u001b[39;00m \u001b[38;5;28mgetattr\u001b[39m(\u001b[38;5;28;43mdict\u001b[39;49m, method)(\u001b[38;5;28mself\u001b[39m, \u001b[38;5;241m*\u001b[39margs)\n",
      "\u001b[1;31mKeyboardInterrupt\u001b[0m: "
     ]
    }
   ],
   "source": [
    "from textblob import TextBlob\n",
    "newest_df['tweets']=newest_df['tweets'].apply(lambda x:str(TextBlob(x).correct()))\n",
    "\n"
   ]
  },
  {
   "cell_type": "code",
   "execution_count": null,
   "id": "0b62a217",
   "metadata": {},
   "outputs": [],
   "source": [
    "from spellchecker import SpellChecker\n",
    "\n",
    "# Initialize the spell checker\n",
    "spell = SpellChecker()\n",
    "\n",
    "# Define a function to correct spelling in a single text\n",
    "def correct_spelling(text):\n",
    "    words = text.split()\n",
    "    corrected_words = [spell.correction(word) if spell.correction(word) is not None else word for word in words]\n",
    "    corrected_text = \" \".join(corrected_words)\n",
    "    return corrected_text\n",
    "\n",
    "# Assuming you have a DataFrame named newest_df with a 'tweets' column\n",
    "newest_df['tweets'] = newest_df['tweets'].apply(lambda x: correct_spelling(str(x)))\n",
    "\n",
    "\n",
    "\n",
    "\n"
   ]
  },
  {
   "cell_type": "code",
   "execution_count": null,
   "id": "096d06ea",
   "metadata": {},
   "outputs": [],
   "source": [
    "class_df = df[df['type_of_disaster'] == 'not disaster']\n",
    "duplicate = class_df[class_df.duplicated()]\n",
    " \n",
    "print(\"Duplicate Rows for not disaster :\")\n",
    " \n",
    "\n",
    "duplicate"
   ]
  },
  {
   "cell_type": "code",
   "execution_count": null,
   "id": "9b27bac7",
   "metadata": {},
   "outputs": [],
   "source": []
  }
 ],
 "metadata": {
  "kernelspec": {
   "display_name": "Python 3 (ipykernel)",
   "language": "python",
   "name": "python3"
  },
  "language_info": {
   "codemirror_mode": {
    "name": "ipython",
    "version": 3
   },
   "file_extension": ".py",
   "mimetype": "text/x-python",
   "name": "python",
   "nbconvert_exporter": "python",
   "pygments_lexer": "ipython3",
   "version": "3.9.12"
  }
 },
 "nbformat": 4,
 "nbformat_minor": 5
}
